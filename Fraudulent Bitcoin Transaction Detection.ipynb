{
  "nbformat": 4,
  "nbformat_minor": 0,
  "metadata": {
    "colab": {
      "name": "Project.ipynb",
      "provenance": [],
      "collapsed_sections": [
        "fc1c2yKFJZzQ"
      ],
      "toc_visible": true
    },
    "kernelspec": {
      "name": "python3",
      "display_name": "Python 3"
    },
    "language_info": {
      "name": "python"
    },
    "accelerator": "GPU"
  },
  "cells": [
    {
      "cell_type": "code",
      "source": [
        "!pip install torch-scatter -q -f https://pytorch-geometric.com/whl/torch-1.10.0+cu111.html\n",
        "!pip install torch-sparse -q -f https://pytorch-geometric.com/whl/torch-1.10.0+cu111.html\n",
        "!pip install torch-cluster -q -f https://pytorch-geometric.com/whl/torch-1.10.0+cu111.html\n",
        "!pip install torch-spline-conv -q -f https://pytorch-geometric.com/whl/torch-1.10.0+cu111.html\n",
        "!pip install torch-geometric -q"
      ],
      "metadata": {
        "id": "ASxpqDChJnih",
        "colab": {
          "base_uri": "https://localhost:8080/"
        },
        "outputId": "0ae347ac-e4f2-429f-ac60-2b8fbd864ecf"
      },
      "execution_count": 1,
      "outputs": [
        {
          "output_type": "stream",
          "name": "stdout",
          "text": [
            "\u001b[K     |████████████████████████████████| 7.9 MB 2.5 MB/s \n",
            "\u001b[K     |████████████████████████████████| 3.5 MB 2.8 MB/s \n",
            "\u001b[K     |████████████████████████████████| 2.3 MB 2.8 MB/s \n",
            "\u001b[K     |████████████████████████████████| 747 kB 2.0 MB/s \n",
            "\u001b[K     |████████████████████████████████| 370 kB 5.2 MB/s \n",
            "\u001b[K     |████████████████████████████████| 482 kB 60.0 MB/s \n",
            "\u001b[K     |████████████████████████████████| 41 kB 736 kB/s \n",
            "\u001b[?25h  Building wheel for torch-geometric (setup.py) ... \u001b[?25l\u001b[?25hdone\n"
          ]
        }
      ]
    },
    {
      "cell_type": "code",
      "source": [
        "import numpy as np\n",
        "import pandas as pd\n",
        "import torch\n",
        "import torch_geometric\n",
        "from torch.nn import Linear, LayerNorm, ReLU, Dropout\n",
        "import torch.nn.functional as F\n",
        "from torch_geometric.nn import GATConv, GCNConv, SAGEConv\n",
        "from torch_geometric.data import Data, DataLoader\n",
        "\n",
        "import scipy.sparse as sp"
      ],
      "metadata": {
        "id": "VK_-mcCAJwBf"
      },
      "execution_count": 2,
      "outputs": []
    },
    {
      "cell_type": "markdown",
      "source": [
        "# Download Dataset"
      ],
      "metadata": {
        "id": "fc1c2yKFJZzQ"
      }
    },
    {
      "cell_type": "code",
      "source": [
        "!pip install kaggle"
      ],
      "metadata": {
        "colab": {
          "base_uri": "https://localhost:8080/"
        },
        "id": "Hu7zcn7oNFCJ",
        "outputId": "f12bff43-87cd-45ab-96d0-8e2396e604ee"
      },
      "execution_count": null,
      "outputs": [
        {
          "output_type": "stream",
          "name": "stdout",
          "text": [
            "Requirement already satisfied: kaggle in /usr/local/lib/python3.7/dist-packages (1.5.12)\n",
            "Requirement already satisfied: python-dateutil in /usr/local/lib/python3.7/dist-packages (from kaggle) (2.8.2)\n",
            "Requirement already satisfied: requests in /usr/local/lib/python3.7/dist-packages (from kaggle) (2.23.0)\n",
            "Requirement already satisfied: certifi in /usr/local/lib/python3.7/dist-packages (from kaggle) (2021.10.8)\n",
            "Requirement already satisfied: six>=1.10 in /usr/local/lib/python3.7/dist-packages (from kaggle) (1.15.0)\n",
            "Requirement already satisfied: urllib3 in /usr/local/lib/python3.7/dist-packages (from kaggle) (1.24.3)\n",
            "Requirement already satisfied: tqdm in /usr/local/lib/python3.7/dist-packages (from kaggle) (4.62.3)\n",
            "Requirement already satisfied: python-slugify in /usr/local/lib/python3.7/dist-packages (from kaggle) (5.0.2)\n",
            "Requirement already satisfied: text-unidecode>=1.3 in /usr/local/lib/python3.7/dist-packages (from python-slugify->kaggle) (1.3)\n",
            "Requirement already satisfied: chardet<4,>=3.0.2 in /usr/local/lib/python3.7/dist-packages (from requests->kaggle) (3.0.4)\n",
            "Requirement already satisfied: idna<3,>=2.5 in /usr/local/lib/python3.7/dist-packages (from requests->kaggle) (2.10)\n"
          ]
        }
      ]
    },
    {
      "cell_type": "code",
      "source": [
        "!mkdir ~/.kaggle"
      ],
      "metadata": {
        "id": "h-FuB1ksNJVx"
      },
      "execution_count": null,
      "outputs": []
    },
    {
      "cell_type": "code",
      "source": [
        "!cp kaggle.json ~/.kaggle/"
      ],
      "metadata": {
        "id": "kHhWRpOQOfRw"
      },
      "execution_count": null,
      "outputs": []
    },
    {
      "cell_type": "code",
      "source": [
        "!chmod 600 ~/.kaggle/kaggle.json"
      ],
      "metadata": {
        "id": "k8H9FHlwOgFw"
      },
      "execution_count": null,
      "outputs": []
    },
    {
      "cell_type": "code",
      "source": [
        "%cd /content/drive/MyDrive/ML on graph/Project"
      ],
      "metadata": {
        "colab": {
          "base_uri": "https://localhost:8080/"
        },
        "id": "ymZ1LFJNMGtM",
        "outputId": "a5692ce0-fe94-47a5-8ebc-d439c5438125"
      },
      "execution_count": null,
      "outputs": [
        {
          "output_type": "stream",
          "name": "stdout",
          "text": [
            "/content/drive/MyDrive/ML on graph/Project\n"
          ]
        }
      ]
    },
    {
      "cell_type": "code",
      "source": [
        "!kaggle datasets download ellipticco/elliptic-data-set"
      ],
      "metadata": {
        "colab": {
          "base_uri": "https://localhost:8080/"
        },
        "id": "ldLbPt0YOjJG",
        "outputId": "b155f96f-ee0b-48c6-a593-396fb5708a7c"
      },
      "execution_count": null,
      "outputs": [
        {
          "output_type": "stream",
          "name": "stdout",
          "text": [
            "Downloading elliptic-data-set.zip to /content/drive/MyDrive/ML on graph/Project\n",
            " 99% 144M/146M [00:01<00:00, 57.2MB/s]\n",
            "100% 146M/146M [00:01<00:00, 84.1MB/s]\n"
          ]
        }
      ]
    },
    {
      "cell_type": "code",
      "execution_count": null,
      "metadata": {
        "colab": {
          "base_uri": "https://localhost:8080/"
        },
        "id": "R-3t-JgbJYz6",
        "outputId": "4f3e9679-4652-4db9-c95f-e31b1ff57eaa"
      },
      "outputs": [
        {
          "output_type": "stream",
          "name": "stdout",
          "text": [
            "Archive:  elliptic-data-set.zip\n",
            "  inflating: elliptic_bitcoin_dataset/elliptic_txs_classes.csv  \n",
            "  inflating: elliptic_bitcoin_dataset/elliptic_txs_edgelist.csv  \n",
            "  inflating: elliptic_bitcoin_dataset/elliptic_txs_features.csv  \n"
          ]
        }
      ],
      "source": [
        "!unzip elliptic-data-set.zip"
      ]
    },
    {
      "cell_type": "markdown",
      "source": [
        "# Load & Prepare Data"
      ],
      "metadata": {
        "id": "O-CGW2FUJlSb"
      }
    },
    {
      "cell_type": "code",
      "source": [
        "%cd /content/drive/MyDrive/ML on graph/Project"
      ],
      "metadata": {
        "colab": {
          "base_uri": "https://localhost:8080/"
        },
        "id": "bK69AEAvr75x",
        "outputId": "26c42cb7-e105-41f6-b218-60f6073ec8d5"
      },
      "execution_count": 3,
      "outputs": [
        {
          "output_type": "stream",
          "name": "stdout",
          "text": [
            "/content/drive/MyDrive/ML on graph/Project\n"
          ]
        }
      ]
    },
    {
      "cell_type": "code",
      "source": [
        "df_features = pd.read_csv('elliptic_bitcoin_dataset/elliptic_txs_features.csv', header=None)\n",
        "df_edges = pd.read_csv('elliptic_bitcoin_dataset/elliptic_txs_edgelist.csv')\n",
        "df_classes =  pd.read_csv('elliptic_bitcoin_dataset/elliptic_txs_classes.csv')"
      ],
      "metadata": {
        "id": "YuCLApjBN5Qy"
      },
      "execution_count": 4,
      "outputs": []
    },
    {
      "cell_type": "code",
      "source": [
        "df_classes['class'] = df_classes['class'].map({'unknown': 2, '1':1, '2':0})"
      ],
      "metadata": {
        "id": "tIrMHjcpRI-V"
      },
      "execution_count": 5,
      "outputs": []
    },
    {
      "cell_type": "markdown",
      "source": [
        "# Convert Dataset to torch_geometric.data.Data object"
      ],
      "metadata": {
        "id": "NkLCkJKfuSu8"
      }
    },
    {
      "cell_type": "code",
      "source": [
        "df_merge = df_features.merge(df_classes, how='left', right_on=\"txId\", left_on=0).sort_values(0).reset_index(drop=True)\n",
        "nodes = df_merge[0].values\n",
        "map_id = {j:i for i,j in enumerate(nodes)} # mapping nodes to indexes\n",
        "\n",
        "edges = df_edges.copy()\n",
        "edges.txId1 = edges.txId1.map(map_id)\n",
        "edges.txId2 = edges.txId2.map(map_id)\n",
        "edges = edges.astype(int)\n",
        "\n",
        "edge_index = torch.tensor(edges.values, dtype=torch.long).contiguous().T\n",
        "#weights = torch.tensor([1]* edge_index.shape[1] , dtype=torch.double)\n",
        "print(edge_index.shape)"
      ],
      "metadata": {
        "id": "zmhzRlcfQxaM",
        "colab": {
          "base_uri": "https://localhost:8080/"
        },
        "outputId": "10ba471d-0818-46bd-80cf-06dfedf7cd2f"
      },
      "execution_count": 6,
      "outputs": [
        {
          "output_type": "stream",
          "name": "stdout",
          "text": [
            "torch.Size([2, 234355])\n"
          ]
        }
      ]
    },
    {
      "cell_type": "code",
      "source": [
        "# maping txIds to corresponding indexes, to pass node features to the model\n",
        "node_features = df_merge.drop(['txId'], axis=1).copy()\n",
        "node_features[0] = node_features[0].map(map_id)\n",
        "classified_idx = node_features[node_features['class'] != 2].index\n",
        "unclassified_idx = node_features[node_features['class'] == 2].index\n",
        "\n",
        "# replace unkown class with 0, to avoid having 3 classes, this data/labels never used in training\n",
        "node_features['class'] = node_features['class'].replace(2, 0) "
      ],
      "metadata": {
        "id": "lkxLdo5iPZGJ"
      },
      "execution_count": 7,
      "outputs": []
    },
    {
      "cell_type": "code",
      "source": [
        "X = torch.tensor(node_features.drop([0, 'class', 1], axis=1).values, dtype=torch.double)\n",
        "\n",
        "# TRY THIS\n",
        "# X = torch.tensor(node_features.drop([0, 'class'], axis=1).values, dtype=torch.double)\n",
        "\n",
        "Y = torch.tensor(node_features['class'].values, dtype=torch.double)"
      ],
      "metadata": {
        "id": "9jkKlfNaSRpW"
      },
      "execution_count": 8,
      "outputs": []
    },
    {
      "cell_type": "code",
      "source": [
        "# converting data to PyGeometric graph data format\n",
        "\n",
        "data_train = Data(x=X,\n",
        "                  edge_index=edge_index,\n",
        "                  y=Y\n",
        "                )"
      ],
      "metadata": {
        "id": "q-c5QMYCPuZB"
      },
      "execution_count": 9,
      "outputs": []
    },
    {
      "cell_type": "code",
      "source": [
        "# spliting train set and validation set\n",
        "from sklearn.model_selection import train_test_split\n",
        "X_train, X_valid, y_train, y_val, train_idx, val_idx = train_test_split(X[classified_idx], \n",
        "                                                                        Y[classified_idx], \n",
        "                                                                        classified_idx,\n",
        "                                                                        test_size=0.15,\n",
        "                                                                        random_state=2022,\n",
        "                                                                        stratify=Y[classified_idx]\n",
        "                                                                        )"
      ],
      "metadata": {
        "id": "oZVyFe93RCfw"
      },
      "execution_count": 10,
      "outputs": []
    },
    {
      "cell_type": "markdown",
      "source": [
        "# GCN Architecture"
      ],
      "metadata": {
        "id": "lx2sas3s1_Fs"
      }
    },
    {
      "cell_type": "code",
      "source": [
        "import torch.nn.functional as F\n",
        "\n",
        "class GCN(torch.nn.Module):\n",
        "    def __init__(self, input_dim, hidden_dim, output_dim, num_layers, dropout):\n",
        "        super(GCN, self).__init__()\n",
        "\n",
        "        self.convs = torch.nn.ModuleList()\n",
        "        self.bns = torch.nn.ModuleList()\n",
        "\n",
        "        self.convs.append(GCNConv(input_dim, hidden_dim))\n",
        "        for i in range(num_layers - 2):\n",
        "          self.convs.append(GCNConv(hidden_dim, hidden_dim))\n",
        "        self.convs.append(GCNConv(hidden_dim, output_dim))\n",
        "\n",
        "        for i in range(num_layers - 1):\n",
        "          self.bns.append(torch.nn.BatchNorm1d(num_features=hidden_dim))\n",
        "\n",
        "        # Probability of an element getting zeroed\n",
        "        self.dropout = dropout\n",
        "\n",
        "\n",
        "    def reset_parameters(self):\n",
        "        for conv in self.convs:\n",
        "            conv.reset_parameters()\n",
        "        for bn in self.bns:\n",
        "            bn.reset_parameters()\n",
        "\n",
        "    def forward(self, data):\n",
        "\n",
        "        x, edge_index = data.x, data.edge_index\n",
        "\n",
        "        for conv, bn in zip(self.convs[:-1], self.bns):\n",
        "          x = F.relu(bn(conv(x, edge_index)))\n",
        "          if self.training:\n",
        "            x = F.dropout(x, p=self.dropout)\n",
        "            \n",
        "        x = self.convs[-1](x, edge_index)\n",
        "        out = torch.sigmoid(x)\n",
        "\n",
        "        return out"
      ],
      "metadata": {
        "id": "3NpHd8dW7OKg"
      },
      "execution_count": 11,
      "outputs": []
    },
    {
      "cell_type": "code",
      "source": [
        "def train(model, data_train, train_idx, optimizer, loss_fn, scheduler):\n",
        "    \n",
        "  model.train()\n",
        "  optimizer.zero_grad()\n",
        "  pred = model(data_train)\n",
        "  pred = pred.reshape((data_train.x.shape[0]))\n",
        "  train_loss = loss_fn(pred[train_idx], data_train.y[train_idx])\n",
        "\n",
        "  train_loss.backward()\n",
        "  optimizer.step()\n",
        "  \n",
        "  \n",
        "  val_loss = loss_fn(pred[val_idx], data_train.y[val_idx])\n",
        "  scheduler.step(val_loss)\n",
        "\n",
        "  return pred, train_loss.item(), val_loss.item()"
      ],
      "metadata": {
        "id": "dq3xEOcj-7as"
      },
      "execution_count": 12,
      "outputs": []
    },
    {
      "cell_type": "markdown",
      "source": [
        "## Train"
      ],
      "metadata": {
        "id": "Wo926zzE4Y_m"
      }
    },
    {
      "cell_type": "code",
      "source": [
        "device = torch.device('cuda' if torch.cuda.is_available() else 'cpu')\n",
        "args = {\n",
        "      'num_layers': 3,\n",
        "      'hidden_dim': 128,\n",
        "      'dropout': 0.4,\n",
        "      'lr': 0.01,\n",
        "      'epochs': 300,\n",
        "      }"
      ],
      "metadata": {
        "id": "SSLxnNFhAHwJ"
      },
      "execution_count": 18,
      "outputs": []
    },
    {
      "cell_type": "code",
      "source": [
        "model = GCN(input_dim=data_train.num_features,\n",
        "            hidden_dim=args['hidden_dim'],\n",
        "            output_dim=1,\n",
        "            num_layers=args['num_layers'],\n",
        "            dropout=args['dropout'],\n",
        "            ).to(device)"
      ],
      "metadata": {
        "id": "UCilVlsc_vov"
      },
      "execution_count": 19,
      "outputs": []
    },
    {
      "cell_type": "code",
      "source": [
        "from sklearn.metrics import roc_auc_score, accuracy_score\n",
        "import copy\n",
        "\n",
        "model.reset_parameters()\n",
        "model.double()\n",
        "data_train = data_train.to(device)\n",
        "\n",
        "optimizer = torch.optim.Adam(model.parameters(), lr=0.01)\n",
        "scheduler = torch.optim.lr_scheduler.ReduceLROnPlateau(optimizer, 'min', verbose=True, factor=0.8, min_lr=0.0001)\n",
        "loss_fn = torch.nn.BCELoss()\n",
        "\n",
        "best_model = None\n",
        "best_valid_loss = 10\n",
        "train_losses = []\n",
        "valid_losses = []\n",
        "epoch_ls = []\n",
        "\n",
        "for epoch in range(1, 1 + args[\"epochs\"]):\n",
        "\n",
        "  pred, train_loss, val_loss = train(model, data_train, train_idx, optimizer, loss_fn, scheduler)\n",
        "  out_labels = pred.detach().cpu().numpy() > 0.5\n",
        "\n",
        "  # Metrics\n",
        "  train_acc = accuracy_score(data_train.y.detach().cpu().numpy()[train_idx], out_labels[train_idx])\n",
        "  train_auc = roc_auc_score(data_train.y.detach().cpu().numpy()[train_idx], pred.detach().cpu().numpy()[train_idx])\n",
        "\n",
        "  valid_acc = accuracy_score(data_train.y.detach().cpu().numpy()[val_idx], out_labels[val_idx])\n",
        "  valid_auc = roc_auc_score(data_train.y.detach().cpu().numpy()[val_idx], pred.detach().cpu().numpy()[val_idx])\n",
        "\n",
        "  if val_loss < best_valid_loss:\n",
        "    best_valid_loss = val_loss\n",
        "    best_valid_acc = valid_acc\n",
        "    best_valid_auc = valid_auc\n",
        "    best_model = copy.deepcopy(model)\n",
        "\n",
        "  if epoch%5 == 0:\n",
        "    train_losses.append(train_loss)\n",
        "    valid_losses.append(val_loss)\n",
        "    epoch_ls.append(epoch)\n",
        "    print(f'Epoch: {epoch:02d}, '\n",
        "          f'Loss: {train_loss:.4f}, '\n",
        "          f'Train_Accuracy: {100 * train_acc:.2f}%, '\n",
        "          f'Train_AUC: {100 * train_auc:.2f}%, '\n",
        "          f'Valid_Loss: {val_loss:.4f}, '\n",
        "          f'Valid_Accuracy: {100 * valid_acc:.2f}% '\n",
        "          f'Valid_AUC: {100 * valid_auc:.2f}% ')"
      ],
      "metadata": {
        "colab": {
          "base_uri": "https://localhost:8080/"
        },
        "id": "xLIm3ETe_WpD",
        "outputId": "f516b882-f55b-4eb1-e27b-c622b711e686"
      },
      "execution_count": 20,
      "outputs": [
        {
          "output_type": "stream",
          "name": "stdout",
          "text": [
            "Epoch: 05, Loss: 0.3057, Train_Accuracy: 86.47%, Train_AUC: 83.09%, Valid_Loss: 0.3084, Valid_Accuracy: 86.27% Valid_AUC: 82.99% \n",
            "Epoch: 10, Loss: 0.2546, Train_Accuracy: 90.37%, Train_AUC: 84.48%, Valid_Loss: 0.2501, Valid_Accuracy: 90.34% Valid_AUC: 85.09% \n",
            "Epoch: 15, Loss: 0.2315, Train_Accuracy: 91.09%, Train_AUC: 88.22%, Valid_Loss: 0.2350, Valid_Accuracy: 91.15% Valid_AUC: 88.19% \n",
            "Epoch: 20, Loss: 0.2173, Train_Accuracy: 92.05%, Train_AUC: 90.11%, Valid_Loss: 0.2274, Valid_Accuracy: 91.98% Valid_AUC: 89.70% \n",
            "Epoch: 25, Loss: 0.2100, Train_Accuracy: 92.80%, Train_AUC: 90.72%, Valid_Loss: 0.2206, Valid_Accuracy: 92.71% Valid_AUC: 90.28% \n",
            "Epoch: 30, Loss: 0.2000, Train_Accuracy: 93.08%, Train_AUC: 91.43%, Valid_Loss: 0.2143, Valid_Accuracy: 93.09% Valid_AUC: 90.81% \n",
            "Epoch: 35, Loss: 0.1924, Train_Accuracy: 93.15%, Train_AUC: 91.94%, Valid_Loss: 0.2074, Valid_Accuracy: 92.90% Valid_AUC: 91.15% \n",
            "Epoch: 40, Loss: 0.1835, Train_Accuracy: 93.56%, Train_AUC: 92.57%, Valid_Loss: 0.1979, Valid_Accuracy: 93.23% Valid_AUC: 91.90% \n",
            "Epoch: 45, Loss: 0.1808, Train_Accuracy: 93.74%, Train_AUC: 92.83%, Valid_Loss: 0.1989, Valid_Accuracy: 93.37% Valid_AUC: 91.65% \n",
            "Epoch: 50, Loss: 0.1757, Train_Accuracy: 94.01%, Train_AUC: 93.08%, Valid_Loss: 0.1883, Valid_Accuracy: 93.69% Valid_AUC: 92.24% \n",
            "Epoch: 55, Loss: 0.1711, Train_Accuracy: 94.05%, Train_AUC: 93.49%, Valid_Loss: 0.1891, Valid_Accuracy: 93.50% Valid_AUC: 92.23% \n",
            "Epoch: 60, Loss: 0.1652, Train_Accuracy: 94.18%, Train_AUC: 93.90%, Valid_Loss: 0.1790, Valid_Accuracy: 94.03% Valid_AUC: 92.70% \n",
            "Epoch: 65, Loss: 0.1608, Train_Accuracy: 94.37%, Train_AUC: 94.18%, Valid_Loss: 0.1742, Valid_Accuracy: 94.02% Valid_AUC: 93.02% \n",
            "Epoch: 70, Loss: 0.1570, Train_Accuracy: 94.52%, Train_AUC: 94.50%, Valid_Loss: 0.1759, Valid_Accuracy: 94.02% Valid_AUC: 92.89% \n",
            "Epoch: 75, Loss: 0.1517, Train_Accuracy: 94.64%, Train_AUC: 94.82%, Valid_Loss: 0.1688, Valid_Accuracy: 94.12% Valid_AUC: 93.44% \n",
            "Epoch: 80, Loss: 0.1486, Train_Accuracy: 94.68%, Train_AUC: 95.05%, Valid_Loss: 0.1621, Valid_Accuracy: 94.26% Valid_AUC: 93.80% \n",
            "Epoch: 85, Loss: 0.1472, Train_Accuracy: 94.76%, Train_AUC: 95.13%, Valid_Loss: 0.1629, Valid_Accuracy: 94.47% Valid_AUC: 93.60% \n",
            "Epoch: 90, Loss: 0.1444, Train_Accuracy: 94.85%, Train_AUC: 95.30%, Valid_Loss: 0.1603, Valid_Accuracy: 94.52% Valid_AUC: 93.91% \n",
            "Epoch: 95, Loss: 0.1381, Train_Accuracy: 95.10%, Train_AUC: 95.73%, Valid_Loss: 0.1572, Valid_Accuracy: 94.73% Valid_AUC: 94.10% \n",
            "Epoch: 100, Loss: 0.1358, Train_Accuracy: 95.14%, Train_AUC: 95.81%, Valid_Loss: 0.1564, Valid_Accuracy: 94.27% Valid_AUC: 94.23% \n",
            "Epoch: 105, Loss: 0.1333, Train_Accuracy: 95.24%, Train_AUC: 96.03%, Valid_Loss: 0.1559, Valid_Accuracy: 94.32% Valid_AUC: 94.28% \n",
            "Epoch: 110, Loss: 0.1335, Train_Accuracy: 95.23%, Train_AUC: 95.92%, Valid_Loss: 0.1518, Valid_Accuracy: 94.45% Valid_AUC: 94.54% \n",
            "Epoch: 115, Loss: 0.1305, Train_Accuracy: 95.31%, Train_AUC: 96.18%, Valid_Loss: 0.1463, Valid_Accuracy: 94.77% Valid_AUC: 94.96% \n",
            "Epoch: 120, Loss: 0.1262, Train_Accuracy: 95.40%, Train_AUC: 96.42%, Valid_Loss: 0.1468, Valid_Accuracy: 95.05% Valid_AUC: 95.09% \n",
            "Epoch: 125, Loss: 0.1233, Train_Accuracy: 95.60%, Train_AUC: 96.64%, Valid_Loss: 0.1456, Valid_Accuracy: 94.87% Valid_AUC: 94.96% \n",
            "Epoch: 130, Loss: 0.1218, Train_Accuracy: 95.64%, Train_AUC: 96.69%, Valid_Loss: 0.1497, Valid_Accuracy: 95.00% Valid_AUC: 94.75% \n",
            "Epoch: 135, Loss: 0.1213, Train_Accuracy: 95.67%, Train_AUC: 96.73%, Valid_Loss: 0.1479, Valid_Accuracy: 95.12% Valid_AUC: 94.94% \n",
            "Epoch: 140, Loss: 0.1178, Train_Accuracy: 95.79%, Train_AUC: 96.93%, Valid_Loss: 0.1470, Valid_Accuracy: 94.95% Valid_AUC: 94.92% \n",
            "Epoch: 145, Loss: 0.1171, Train_Accuracy: 95.88%, Train_AUC: 96.97%, Valid_Loss: 0.1381, Valid_Accuracy: 95.39% Valid_AUC: 95.44% \n",
            "Epoch: 150, Loss: 0.1143, Train_Accuracy: 95.95%, Train_AUC: 97.11%, Valid_Loss: 0.1406, Valid_Accuracy: 95.05% Valid_AUC: 95.43% \n",
            "Epoch: 155, Loss: 0.1145, Train_Accuracy: 95.92%, Train_AUC: 97.08%, Valid_Loss: 0.1406, Valid_Accuracy: 95.12% Valid_AUC: 95.40% \n",
            "Epoch   156: reducing learning rate of group 0 to 8.0000e-03.\n",
            "Epoch: 160, Loss: 0.1128, Train_Accuracy: 95.97%, Train_AUC: 97.20%, Valid_Loss: 0.1385, Valid_Accuracy: 95.12% Valid_AUC: 95.43% \n",
            "Epoch: 165, Loss: 0.1103, Train_Accuracy: 96.02%, Train_AUC: 97.36%, Valid_Loss: 0.1414, Valid_Accuracy: 95.19% Valid_AUC: 95.25% \n",
            "Epoch: 170, Loss: 0.1090, Train_Accuracy: 96.07%, Train_AUC: 97.41%, Valid_Loss: 0.1398, Valid_Accuracy: 95.25% Valid_AUC: 95.33% \n",
            "Epoch: 175, Loss: 0.1096, Train_Accuracy: 96.04%, Train_AUC: 97.38%, Valid_Loss: 0.1371, Valid_Accuracy: 95.12% Valid_AUC: 95.60% \n",
            "Epoch: 180, Loss: 0.1065, Train_Accuracy: 96.19%, Train_AUC: 97.50%, Valid_Loss: 0.1332, Valid_Accuracy: 95.40% Valid_AUC: 95.88% \n",
            "Epoch: 185, Loss: 0.1049, Train_Accuracy: 96.26%, Train_AUC: 97.63%, Valid_Loss: 0.1339, Valid_Accuracy: 95.26% Valid_AUC: 95.92% \n",
            "Epoch: 190, Loss: 0.1044, Train_Accuracy: 96.20%, Train_AUC: 97.64%, Valid_Loss: 0.1389, Valid_Accuracy: 95.38% Valid_AUC: 95.52% \n",
            "Epoch   191: reducing learning rate of group 0 to 6.4000e-03.\n",
            "Epoch: 195, Loss: 0.1025, Train_Accuracy: 96.34%, Train_AUC: 97.75%, Valid_Loss: 0.1413, Valid_Accuracy: 95.30% Valid_AUC: 95.37% \n",
            "Epoch: 200, Loss: 0.1014, Train_Accuracy: 96.35%, Train_AUC: 97.82%, Valid_Loss: 0.1332, Valid_Accuracy: 95.28% Valid_AUC: 96.01% \n",
            "Epoch   205: reducing learning rate of group 0 to 5.1200e-03.\n",
            "Epoch: 205, Loss: 0.1008, Train_Accuracy: 96.38%, Train_AUC: 97.84%, Valid_Loss: 0.1379, Valid_Accuracy: 95.48% Valid_AUC: 95.61% \n",
            "Epoch: 210, Loss: 0.0999, Train_Accuracy: 96.36%, Train_AUC: 97.88%, Valid_Loss: 0.1332, Valid_Accuracy: 95.38% Valid_AUC: 95.90% \n",
            "Epoch: 215, Loss: 0.1013, Train_Accuracy: 96.40%, Train_AUC: 97.80%, Valid_Loss: 0.1330, Valid_Accuracy: 95.29% Valid_AUC: 96.00% \n",
            "Epoch: 220, Loss: 0.0999, Train_Accuracy: 96.35%, Train_AUC: 97.92%, Valid_Loss: 0.1332, Valid_Accuracy: 95.56% Valid_AUC: 95.96% \n",
            "Epoch: 225, Loss: 0.0963, Train_Accuracy: 96.47%, Train_AUC: 98.06%, Valid_Loss: 0.1345, Valid_Accuracy: 95.55% Valid_AUC: 95.94% \n",
            "Epoch   230: reducing learning rate of group 0 to 4.0960e-03.\n",
            "Epoch: 230, Loss: 0.0957, Train_Accuracy: 96.55%, Train_AUC: 98.09%, Valid_Loss: 0.1320, Valid_Accuracy: 95.35% Valid_AUC: 96.03% \n",
            "Epoch: 235, Loss: 0.0972, Train_Accuracy: 96.45%, Train_AUC: 98.03%, Valid_Loss: 0.1385, Valid_Accuracy: 95.20% Valid_AUC: 95.73% \n",
            "Epoch: 240, Loss: 0.0958, Train_Accuracy: 96.50%, Train_AUC: 98.08%, Valid_Loss: 0.1351, Valid_Accuracy: 95.40% Valid_AUC: 95.77% \n",
            "Epoch   241: reducing learning rate of group 0 to 3.2768e-03.\n",
            "Epoch: 245, Loss: 0.0954, Train_Accuracy: 96.58%, Train_AUC: 98.08%, Valid_Loss: 0.1313, Valid_Accuracy: 95.66% Valid_AUC: 96.01% \n",
            "Epoch: 250, Loss: 0.0961, Train_Accuracy: 96.54%, Train_AUC: 98.06%, Valid_Loss: 0.1357, Valid_Accuracy: 95.68% Valid_AUC: 95.85% \n",
            "Epoch   252: reducing learning rate of group 0 to 2.6214e-03.\n",
            "Epoch: 255, Loss: 0.0950, Train_Accuracy: 96.57%, Train_AUC: 98.11%, Valid_Loss: 0.1355, Valid_Accuracy: 95.45% Valid_AUC: 95.83% \n",
            "Epoch: 260, Loss: 0.0959, Train_Accuracy: 96.47%, Train_AUC: 98.10%, Valid_Loss: 0.1332, Valid_Accuracy: 95.45% Valid_AUC: 96.17% \n",
            "Epoch   263: reducing learning rate of group 0 to 2.0972e-03.\n",
            "Epoch: 265, Loss: 0.0938, Train_Accuracy: 96.61%, Train_AUC: 98.15%, Valid_Loss: 0.1287, Valid_Accuracy: 95.55% Valid_AUC: 96.33% \n",
            "Epoch: 270, Loss: 0.0925, Train_Accuracy: 96.62%, Train_AUC: 98.20%, Valid_Loss: 0.1330, Valid_Accuracy: 95.40% Valid_AUC: 96.09% \n",
            "Epoch: 275, Loss: 0.0925, Train_Accuracy: 96.68%, Train_AUC: 98.21%, Valid_Loss: 0.1360, Valid_Accuracy: 95.40% Valid_AUC: 95.97% \n",
            "Epoch   276: reducing learning rate of group 0 to 1.6777e-03.\n",
            "Epoch: 280, Loss: 0.0936, Train_Accuracy: 96.62%, Train_AUC: 98.19%, Valid_Loss: 0.1294, Valid_Accuracy: 95.62% Valid_AUC: 96.20% \n",
            "Epoch: 285, Loss: 0.0923, Train_Accuracy: 96.58%, Train_AUC: 98.26%, Valid_Loss: 0.1374, Valid_Accuracy: 95.35% Valid_AUC: 95.81% \n",
            "Epoch   287: reducing learning rate of group 0 to 1.3422e-03.\n",
            "Epoch: 290, Loss: 0.0926, Train_Accuracy: 96.75%, Train_AUC: 98.19%, Valid_Loss: 0.1382, Valid_Accuracy: 95.48% Valid_AUC: 95.73% \n",
            "Epoch: 295, Loss: 0.0932, Train_Accuracy: 96.71%, Train_AUC: 98.12%, Valid_Loss: 0.1347, Valid_Accuracy: 95.55% Valid_AUC: 95.97% \n",
            "Epoch   298: reducing learning rate of group 0 to 1.0737e-03.\n",
            "Epoch: 300, Loss: 0.0942, Train_Accuracy: 96.50%, Train_AUC: 98.17%, Valid_Loss: 0.1299, Valid_Accuracy: 95.40% Valid_AUC: 96.28% \n"
          ]
        }
      ]
    },
    {
      "cell_type": "code",
      "source": [
        "path = '/content/drive/My Drive/ML on graph/Project/modelweights'\n",
        "torch.save(best_model.state_dict(), path)\n",
        "print(f\"Best model state_dict saved in {path}\")"
      ],
      "metadata": {
        "colab": {
          "base_uri": "https://localhost:8080/"
        },
        "id": "3Ntb_Cl0nTEn",
        "outputId": "5850eb60-28f4-409b-826e-f88f85bdc0e5"
      },
      "execution_count": 21,
      "outputs": [
        {
          "output_type": "stream",
          "name": "stdout",
          "text": [
            "Best model state_dict saved in /content/drive/My Drive/ML on graph/Project/modelweights\n"
          ]
        }
      ]
    },
    {
      "cell_type": "code",
      "source": [
        "import matplotlib.pyplot as plt\n",
        "\n",
        "plt.plot(epoch_ls, train_losses, '-o')\n",
        "plt.plot(epoch_ls, valid_losses, '-o')\n",
        "plt.xlabel('epoch')\n",
        "plt.ylabel('losses')\n",
        "plt.legend(['Train','Valid'])\n",
        "plt.title('Train vs Valid Losses')\n",
        " \n",
        "plt.show()"
      ],
      "metadata": {
        "colab": {
          "base_uri": "https://localhost:8080/",
          "height": 295
        },
        "id": "fSvg5sy6pGJ7",
        "outputId": "92d09bcc-dfd4-43bf-cfbd-8c3b0dcffc04"
      },
      "execution_count": 22,
      "outputs": [
        {
          "output_type": "display_data",
          "data": {
            "image/png": "[encoded data removed]",
            "text/plain": [
              "<Figure size 432x288 with 1 Axes>"
            ]
          },
          "metadata": {
            "needs_background": "light"
          }
        }
      ]
    },
    {
      "cell_type": "markdown",
      "source": [
        "## Evaluation"
      ],
      "metadata": {
        "id": "GPX-j-z_4a7j"
      }
    },
    {
      "cell_type": "code",
      "source": [
        "print(f'Valid_Loss: {best_valid_loss:.4f} Valid_Accuracy: {100 * best_valid_acc:.2f} Valid_AUC: {100 * best_valid_auc:.2f}')"
      ],
      "metadata": {
        "colab": {
          "base_uri": "https://localhost:8080/"
        },
        "id": "yoyCQ_d5SvbI",
        "outputId": "266cf19a-52b7-4bbc-e8f0-df36f5d1f3ff"
      },
      "execution_count": 26,
      "outputs": [
        {
          "output_type": "stream",
          "name": "stdout",
          "text": [
            "Valid_Loss: 0.1287 Valid_Accuracy: 95.55 Valid_AUC: 96.33\n"
          ]
        }
      ]
    },
    {
      "cell_type": "code",
      "source": [
        "from sklearn.metrics import roc_curve, confusion_matrix, ConfusionMatrixDisplay\n",
        "# confusion matrix for validation data\n",
        "cm = confusion_matrix(data_train.y.detach().cpu().numpy()[val_idx], out_labels[val_idx])\n",
        "CM_disp = ConfusionMatrixDisplay(cm)\n",
        "CM_disp.plot()"
      ],
      "metadata": {
        "colab": {
          "base_uri": "https://localhost:8080/",
          "height": 296
        },
        "id": "Xq6dJgAZ44I2",
        "outputId": "5fb29251-dcd6-4f63-cc07-7c556d4cdeaa"
      },
      "execution_count": 27,
      "outputs": [
        {
          "output_type": "execute_result",
          "data": {
            "text/plain": [
              "<sklearn.metrics._plot.confusion_matrix.ConfusionMatrixDisplay at 0x7f5294471f50>"
            ]
          },
          "metadata": {},
          "execution_count": 27
        },
        {
          "output_type": "display_data",
          "data": {
            "image/png": "[encoded data removed]",
            "text/plain": [
              "<Figure size 432x288 with 2 Axes>"
            ]
          },
          "metadata": {
            "needs_background": "light"
          }
        }
      ]
    },
    {
      "cell_type": "markdown",
      "source": [
        "# GAT Architecture"
      ],
      "metadata": {
        "id": "ZvfOOIxNE1Xm"
      }
    },
    {
      "cell_type": "code",
      "source": [
        "import torch.nn.functional as F\n",
        "\n",
        "class GAT(torch.nn.Module):\n",
        "    def __init__(self, input_dim, hidden_dim, output_dim, num_layers, dropout):\n",
        "        super(GAT, self).__init__()\n",
        "\n",
        "        self.convs = torch.nn.ModuleList()\n",
        "        self.bns = torch.nn.ModuleList()\n",
        "\n",
        "        self.convs.append(GATConv(input_dim, hidden_dim))\n",
        "        for i in range(num_layers - 2):\n",
        "          self.convs.append(GATConv(hidden_dim, hidden_dim))\n",
        "        self.convs.append(GATConv(hidden_dim, output_dim))\n",
        "\n",
        "        for i in range(num_layers - 1):\n",
        "          self.bns.append(torch.nn.BatchNorm1d(num_features=hidden_dim))\n",
        "\n",
        "        # Probability of an element getting zeroed\n",
        "        self.dropout = dropout\n",
        "\n",
        "\n",
        "    def reset_parameters(self):\n",
        "        for conv in self.convs:\n",
        "            conv.reset_parameters()\n",
        "        for bn in self.bns:\n",
        "            bn.reset_parameters()\n",
        "\n",
        "    def forward(self, data):\n",
        "\n",
        "        x, edge_index = data.x, data.edge_index\n",
        "\n",
        "        for conv, bn in zip(self.convs[:-1], self.bns):\n",
        "          x = F.relu(bn(conv(x, edge_index)))\n",
        "          if self.training:\n",
        "            x = F.dropout(x, p=self.dropout)\n",
        "            \n",
        "        x = self.convs[-1](x, edge_index)\n",
        "        out = torch.sigmoid(x)\n",
        "\n",
        "        return out"
      ],
      "metadata": {
        "id": "GqprTO6KE1Xs"
      },
      "execution_count": 28,
      "outputs": []
    },
    {
      "cell_type": "code",
      "source": [
        "def train(model, data_train, train_idx, optimizer, loss_fn, scheduler):\n",
        "    \n",
        "  model.train()\n",
        "  optimizer.zero_grad()\n",
        "  pred = model(data_train)\n",
        "  pred = pred.reshape((data_train.x.shape[0]))\n",
        "  train_loss = loss_fn(pred[train_idx], data_train.y[train_idx])\n",
        "\n",
        "  train_loss.backward()\n",
        "  optimizer.step()\n",
        "  \n",
        "  \n",
        "  val_loss = loss_fn(pred[val_idx], data_train.y[val_idx])\n",
        "  scheduler.step(val_loss)\n",
        "\n",
        "  return pred, train_loss.item(), val_loss.item()"
      ],
      "metadata": {
        "id": "WJkUX3KnFaSa"
      },
      "execution_count": 29,
      "outputs": []
    },
    {
      "cell_type": "markdown",
      "source": [
        "## Train"
      ],
      "metadata": {
        "id": "wo59zHF_FaSg"
      }
    },
    {
      "cell_type": "code",
      "source": [
        "device = torch.device('cuda' if torch.cuda.is_available() else 'cpu')\n",
        "args = {\n",
        "      'num_layers': 3,\n",
        "      'hidden_dim': 128,\n",
        "      'dropout': 0.4,\n",
        "      'lr': 0.01,\n",
        "      'epochs': 300,\n",
        "      }"
      ],
      "metadata": {
        "id": "8FtKlNw-FaSg"
      },
      "execution_count": 30,
      "outputs": []
    },
    {
      "cell_type": "code",
      "source": [
        "model = GAT(input_dim=data_train.num_features,\n",
        "            hidden_dim=args['hidden_dim'],\n",
        "            output_dim=1,\n",
        "            num_layers=args['num_layers'],\n",
        "            dropout=args['dropout'],\n",
        "            ).to(device)"
      ],
      "metadata": {
        "id": "ksqJ_AlqFaSh"
      },
      "execution_count": 31,
      "outputs": []
    },
    {
      "cell_type": "code",
      "source": [
        "from sklearn.metrics import roc_auc_score, accuracy_score\n",
        "import copy\n",
        "\n",
        "model.reset_parameters()\n",
        "model.double()\n",
        "data_train = data_train.to(device)\n",
        "\n",
        "optimizer = torch.optim.Adam(model.parameters(), lr=0.01)\n",
        "scheduler = torch.optim.lr_scheduler.ReduceLROnPlateau(optimizer, 'min', verbose=True, factor=0.8, min_lr=0.0001)\n",
        "loss_fn = torch.nn.BCELoss()\n",
        "\n",
        "best_model = None\n",
        "best_valid_loss = 10\n",
        "train_losses = []\n",
        "valid_losses = []\n",
        "epoch_ls = []\n",
        "\n",
        "for epoch in range(1, 1 + args[\"epochs\"]):\n",
        "\n",
        "  pred, train_loss, val_loss = train(model, data_train, train_idx, optimizer, loss_fn, scheduler)\n",
        "  out_labels = pred.detach().cpu().numpy() > 0.5\n",
        "\n",
        "  # Metrics\n",
        "  train_acc = accuracy_score(data_train.y.detach().cpu().numpy()[train_idx], out_labels[train_idx])\n",
        "  train_auc = roc_auc_score(data_train.y.detach().cpu().numpy()[train_idx], pred.detach().cpu().numpy()[train_idx])\n",
        "\n",
        "  valid_acc = accuracy_score(data_train.y.detach().cpu().numpy()[val_idx], out_labels[val_idx])\n",
        "  valid_auc = roc_auc_score(data_train.y.detach().cpu().numpy()[val_idx], pred.detach().cpu().numpy()[val_idx])\n",
        "\n",
        "  if val_loss < best_valid_loss:\n",
        "    best_valid_loss = val_loss\n",
        "    best_valid_acc = valid_acc\n",
        "    best_valid_auc = valid_auc\n",
        "    best_model = copy.deepcopy(model)\n",
        "\n",
        "  if epoch%5 == 0:\n",
        "    train_losses.append(train_loss)\n",
        "    valid_losses.append(val_loss)\n",
        "    epoch_ls.append(epoch)\n",
        "    print(f'Epoch: {epoch:02d}, '\n",
        "          f'Loss: {train_loss:.4f}, '\n",
        "          f'Train_Accuracy: {100 * train_acc:.2f}%, '\n",
        "          f'Train_AUC: {100 * train_auc:.2f}%, '\n",
        "          f'Valid_Loss: {val_loss:.4f}, '\n",
        "          f'Valid_Accuracy: {100 * valid_acc:.2f}% '\n",
        "          f'Valid_AUC: {100 * valid_auc:.2f}% ')"
      ],
      "metadata": {
        "colab": {
          "base_uri": "https://localhost:8080/"
        },
        "outputId": "29c9bb6f-17cb-4687-c8cf-a3c797a2ad82",
        "id": "eWWQmVUDFaSh"
      },
      "execution_count": 33,
      "outputs": [
        {
          "output_type": "stream",
          "name": "stdout",
          "text": [
            "Epoch: 05, Loss: 0.2497, Train_Accuracy: 90.65%, Train_AUC: 86.13%, Valid_Loss: 0.2532, Valid_Accuracy: 90.38% Valid_AUC: 86.02% \n",
            "Epoch: 10, Loss: 0.2225, Train_Accuracy: 91.29%, Train_AUC: 88.99%, Valid_Loss: 0.2274, Valid_Accuracy: 91.17% Valid_AUC: 88.51% \n",
            "Epoch: 15, Loss: 0.2029, Train_Accuracy: 92.54%, Train_AUC: 91.12%, Valid_Loss: 0.2138, Valid_Accuracy: 92.31% Valid_AUC: 90.49% \n",
            "Epoch: 20, Loss: 0.1913, Train_Accuracy: 93.66%, Train_AUC: 92.19%, Valid_Loss: 0.2048, Valid_Accuracy: 93.40% Valid_AUC: 91.38% \n",
            "Epoch: 25, Loss: 0.1827, Train_Accuracy: 93.65%, Train_AUC: 92.87%, Valid_Loss: 0.1958, Valid_Accuracy: 93.74% Valid_AUC: 91.78% \n",
            "Epoch: 30, Loss: 0.1708, Train_Accuracy: 94.11%, Train_AUC: 93.54%, Valid_Loss: 0.1855, Valid_Accuracy: 93.70% Valid_AUC: 92.15% \n",
            "Epoch: 35, Loss: 0.1649, Train_Accuracy: 94.65%, Train_AUC: 93.98%, Valid_Loss: 0.1804, Valid_Accuracy: 94.29% Valid_AUC: 92.76% \n",
            "Epoch: 40, Loss: 0.1541, Train_Accuracy: 94.76%, Train_AUC: 94.65%, Valid_Loss: 0.1702, Valid_Accuracy: 94.32% Valid_AUC: 93.38% \n",
            "Epoch: 45, Loss: 0.1421, Train_Accuracy: 95.23%, Train_AUC: 95.32%, Valid_Loss: 0.1601, Valid_Accuracy: 94.36% Valid_AUC: 94.06% \n",
            "Epoch: 50, Loss: 0.1352, Train_Accuracy: 95.39%, Train_AUC: 95.63%, Valid_Loss: 0.1573, Valid_Accuracy: 94.95% Valid_AUC: 94.12% \n",
            "Epoch: 55, Loss: 0.1250, Train_Accuracy: 95.61%, Train_AUC: 96.36%, Valid_Loss: 0.1459, Valid_Accuracy: 95.06% Valid_AUC: 94.95% \n",
            "Epoch: 60, Loss: 0.1158, Train_Accuracy: 95.97%, Train_AUC: 96.86%, Valid_Loss: 0.1398, Valid_Accuracy: 95.28% Valid_AUC: 95.11% \n",
            "Epoch: 65, Loss: 0.1102, Train_Accuracy: 96.16%, Train_AUC: 97.25%, Valid_Loss: 0.1334, Valid_Accuracy: 95.46% Valid_AUC: 95.50% \n",
            "Epoch: 70, Loss: 0.1059, Train_Accuracy: 96.33%, Train_AUC: 97.46%, Valid_Loss: 0.1220, Valid_Accuracy: 96.05% Valid_AUC: 96.22% \n",
            "Epoch: 75, Loss: 0.1000, Train_Accuracy: 96.62%, Train_AUC: 97.71%, Valid_Loss: 0.1230, Valid_Accuracy: 95.86% Valid_AUC: 96.28% \n",
            "Epoch: 80, Loss: 0.0983, Train_Accuracy: 96.60%, Train_AUC: 97.78%, Valid_Loss: 0.1149, Valid_Accuracy: 95.98% Valid_AUC: 96.79% \n",
            "Epoch: 85, Loss: 0.0936, Train_Accuracy: 96.77%, Train_AUC: 98.00%, Valid_Loss: 0.1156, Valid_Accuracy: 96.18% Valid_AUC: 96.66% \n",
            "Epoch: 90, Loss: 0.0916, Train_Accuracy: 96.93%, Train_AUC: 98.04%, Valid_Loss: 0.1142, Valid_Accuracy: 96.12% Valid_AUC: 96.70% \n",
            "Epoch: 95, Loss: 0.0876, Train_Accuracy: 97.04%, Train_AUC: 98.24%, Valid_Loss: 0.1097, Valid_Accuracy: 96.13% Valid_AUC: 97.13% \n",
            "Epoch: 100, Loss: 0.0844, Train_Accuracy: 97.20%, Train_AUC: 98.38%, Valid_Loss: 0.1098, Valid_Accuracy: 96.39% Valid_AUC: 97.03% \n",
            "Epoch: 105, Loss: 0.0840, Train_Accuracy: 97.23%, Train_AUC: 98.32%, Valid_Loss: 0.1048, Valid_Accuracy: 96.62% Valid_AUC: 97.12% \n",
            "Epoch   108: reducing learning rate of group 0 to 8.0000e-03.\n",
            "Epoch: 110, Loss: 0.0807, Train_Accuracy: 97.31%, Train_AUC: 98.50%, Valid_Loss: 0.1098, Valid_Accuracy: 96.31% Valid_AUC: 96.84% \n",
            "Epoch: 115, Loss: 0.0779, Train_Accuracy: 97.35%, Train_AUC: 98.64%, Valid_Loss: 0.1052, Valid_Accuracy: 96.56% Valid_AUC: 97.25% \n",
            "Epoch: 120, Loss: 0.0770, Train_Accuracy: 97.42%, Train_AUC: 98.62%, Valid_Loss: 0.1034, Valid_Accuracy: 96.59% Valid_AUC: 97.26% \n",
            "Epoch: 125, Loss: 0.0762, Train_Accuracy: 97.47%, Train_AUC: 98.64%, Valid_Loss: 0.1046, Valid_Accuracy: 96.59% Valid_AUC: 97.23% \n",
            "Epoch: 130, Loss: 0.0726, Train_Accuracy: 97.58%, Train_AUC: 98.82%, Valid_Loss: 0.1032, Valid_Accuracy: 96.71% Valid_AUC: 97.43% \n",
            "Epoch: 135, Loss: 0.0728, Train_Accuracy: 97.51%, Train_AUC: 98.78%, Valid_Loss: 0.0956, Valid_Accuracy: 96.89% Valid_AUC: 97.72% \n",
            "Epoch: 140, Loss: 0.0693, Train_Accuracy: 97.77%, Train_AUC: 98.91%, Valid_Loss: 0.0924, Valid_Accuracy: 96.76% Valid_AUC: 97.90% \n",
            "Epoch: 145, Loss: 0.0692, Train_Accuracy: 97.71%, Train_AUC: 98.90%, Valid_Loss: 0.0946, Valid_Accuracy: 96.82% Valid_AUC: 97.73% \n",
            "Epoch: 150, Loss: 0.0672, Train_Accuracy: 97.75%, Train_AUC: 98.97%, Valid_Loss: 0.0945, Valid_Accuracy: 97.01% Valid_AUC: 97.77% \n",
            "Epoch   151: reducing learning rate of group 0 to 6.4000e-03.\n",
            "Epoch: 155, Loss: 0.0670, Train_Accuracy: 97.73%, Train_AUC: 99.00%, Valid_Loss: 0.1003, Valid_Accuracy: 96.76% Valid_AUC: 97.54% \n",
            "Epoch: 160, Loss: 0.0662, Train_Accuracy: 97.81%, Train_AUC: 98.98%, Valid_Loss: 0.0955, Valid_Accuracy: 96.94% Valid_AUC: 97.75% \n",
            "Epoch   162: reducing learning rate of group 0 to 5.1200e-03.\n",
            "Epoch: 165, Loss: 0.0635, Train_Accuracy: 97.89%, Train_AUC: 99.10%, Valid_Loss: 0.0931, Valid_Accuracy: 96.96% Valid_AUC: 97.88% \n",
            "Epoch: 170, Loss: 0.0631, Train_Accuracy: 97.91%, Train_AUC: 99.09%, Valid_Loss: 0.0898, Valid_Accuracy: 97.07% Valid_AUC: 97.81% \n",
            "Epoch: 175, Loss: 0.0618, Train_Accuracy: 97.93%, Train_AUC: 99.19%, Valid_Loss: 0.0953, Valid_Accuracy: 97.05% Valid_AUC: 97.69% \n",
            "Epoch: 180, Loss: 0.0630, Train_Accuracy: 97.93%, Train_AUC: 99.09%, Valid_Loss: 0.0916, Valid_Accuracy: 97.17% Valid_AUC: 97.88% \n",
            "Epoch   181: reducing learning rate of group 0 to 4.0960e-03.\n",
            "Epoch: 185, Loss: 0.0622, Train_Accuracy: 97.94%, Train_AUC: 99.12%, Valid_Loss: 0.0957, Valid_Accuracy: 96.94% Valid_AUC: 97.79% \n",
            "Epoch: 190, Loss: 0.0623, Train_Accuracy: 97.89%, Train_AUC: 99.14%, Valid_Loss: 0.0992, Valid_Accuracy: 97.15% Valid_AUC: 97.55% \n",
            "Epoch   192: reducing learning rate of group 0 to 3.2768e-03.\n",
            "Epoch: 195, Loss: 0.0583, Train_Accuracy: 98.11%, Train_AUC: 99.25%, Valid_Loss: 0.0872, Valid_Accuracy: 97.07% Valid_AUC: 98.10% \n",
            "Epoch: 200, Loss: 0.0602, Train_Accuracy: 97.98%, Train_AUC: 99.19%, Valid_Loss: 0.0970, Valid_Accuracy: 96.94% Valid_AUC: 97.78% \n",
            "Epoch: 205, Loss: 0.0649, Train_Accuracy: 98.10%, Train_AUC: 99.20%, Valid_Loss: 0.0928, Valid_Accuracy: 97.12% Valid_AUC: 97.75% \n",
            "Epoch   206: reducing learning rate of group 0 to 2.6214e-03.\n",
            "Epoch: 210, Loss: 0.0650, Train_Accuracy: 98.08%, Train_AUC: 99.19%, Valid_Loss: 0.0970, Valid_Accuracy: 97.08% Valid_AUC: 97.59% \n",
            "Epoch: 215, Loss: 0.0583, Train_Accuracy: 98.04%, Train_AUC: 99.26%, Valid_Loss: 0.0940, Valid_Accuracy: 97.22% Valid_AUC: 97.75% \n",
            "Epoch   217: reducing learning rate of group 0 to 2.0972e-03.\n",
            "Epoch: 220, Loss: 0.0584, Train_Accuracy: 98.07%, Train_AUC: 99.22%, Valid_Loss: 0.0994, Valid_Accuracy: 96.84% Valid_AUC: 97.42% \n",
            "Epoch: 225, Loss: 0.0575, Train_Accuracy: 98.04%, Train_AUC: 99.29%, Valid_Loss: 0.0943, Valid_Accuracy: 97.04% Valid_AUC: 97.77% \n",
            "Epoch   228: reducing learning rate of group 0 to 1.6777e-03.\n",
            "Epoch: 230, Loss: 0.0576, Train_Accuracy: 98.03%, Train_AUC: 99.26%, Valid_Loss: 0.0941, Valid_Accuracy: 97.28% Valid_AUC: 97.70% \n",
            "Epoch: 235, Loss: 0.0579, Train_Accuracy: 98.09%, Train_AUC: 99.23%, Valid_Loss: 0.0971, Valid_Accuracy: 96.95% Valid_AUC: 97.84% \n",
            "Epoch   239: reducing learning rate of group 0 to 1.3422e-03.\n",
            "Epoch: 240, Loss: 0.0566, Train_Accuracy: 98.16%, Train_AUC: 99.30%, Valid_Loss: 0.0942, Valid_Accuracy: 97.09% Valid_AUC: 97.88% \n",
            "Epoch: 245, Loss: 0.0576, Train_Accuracy: 97.99%, Train_AUC: 99.30%, Valid_Loss: 0.0924, Valid_Accuracy: 97.29% Valid_AUC: 97.95% \n",
            "Epoch   250: reducing learning rate of group 0 to 1.0737e-03.\n",
            "Epoch: 250, Loss: 0.0565, Train_Accuracy: 98.12%, Train_AUC: 99.28%, Valid_Loss: 0.0975, Valid_Accuracy: 97.17% Valid_AUC: 97.64% \n",
            "Epoch: 255, Loss: 0.0554, Train_Accuracy: 98.15%, Train_AUC: 99.31%, Valid_Loss: 0.0924, Valid_Accuracy: 97.15% Valid_AUC: 97.85% \n",
            "Epoch: 260, Loss: 0.0571, Train_Accuracy: 98.17%, Train_AUC: 99.25%, Valid_Loss: 0.0924, Valid_Accuracy: 97.14% Valid_AUC: 97.91% \n",
            "Epoch   261: reducing learning rate of group 0 to 8.5899e-04.\n",
            "Epoch: 265, Loss: 0.0556, Train_Accuracy: 98.08%, Train_AUC: 99.34%, Valid_Loss: 0.0942, Valid_Accuracy: 97.14% Valid_AUC: 97.76% \n",
            "Epoch: 270, Loss: 0.0541, Train_Accuracy: 98.22%, Train_AUC: 99.38%, Valid_Loss: 0.0899, Valid_Accuracy: 97.22% Valid_AUC: 98.00% \n",
            "Epoch   272: reducing learning rate of group 0 to 6.8719e-04.\n",
            "Epoch: 275, Loss: 0.0545, Train_Accuracy: 98.19%, Train_AUC: 99.36%, Valid_Loss: 0.0979, Valid_Accuracy: 97.12% Valid_AUC: 97.57% \n",
            "Epoch: 280, Loss: 0.0559, Train_Accuracy: 98.08%, Train_AUC: 99.32%, Valid_Loss: 0.0952, Valid_Accuracy: 97.18% Valid_AUC: 97.84% \n",
            "Epoch   283: reducing learning rate of group 0 to 5.4976e-04.\n",
            "Epoch: 285, Loss: 0.0534, Train_Accuracy: 98.17%, Train_AUC: 99.40%, Valid_Loss: 0.0958, Valid_Accuracy: 97.24% Valid_AUC: 97.71% \n",
            "Epoch: 290, Loss: 0.0547, Train_Accuracy: 98.21%, Train_AUC: 99.33%, Valid_Loss: 0.0987, Valid_Accuracy: 97.01% Valid_AUC: 97.74% \n",
            "Epoch   294: reducing learning rate of group 0 to 4.3980e-04.\n",
            "Epoch: 295, Loss: 0.0547, Train_Accuracy: 98.16%, Train_AUC: 99.38%, Valid_Loss: 0.0968, Valid_Accuracy: 97.08% Valid_AUC: 97.61% \n",
            "Epoch: 300, Loss: 0.0545, Train_Accuracy: 98.18%, Train_AUC: 99.36%, Valid_Loss: 0.0968, Valid_Accuracy: 97.07% Valid_AUC: 97.68% \n"
          ]
        }
      ]
    },
    {
      "cell_type": "code",
      "source": [
        "path = '/content/drive/My Drive/ML on graph/Project/modelweights'\n",
        "torch.save(best_model.state_dict(), path)\n",
        "print(f\"Best model state_dict saved in {path}\")"
      ],
      "metadata": {
        "id": "b6I0Ao8EFaSh"
      },
      "execution_count": null,
      "outputs": []
    },
    {
      "cell_type": "code",
      "source": [
        "import matplotlib.pyplot as plt\n",
        "\n",
        "plt.plot(epoch_ls, train_losses, '-o')\n",
        "plt.plot(epoch_ls, valid_losses, '-o')\n",
        "plt.xlabel('epoch')\n",
        "plt.ylabel('losses')\n",
        "plt.legend(['Train','Valid'])\n",
        "plt.title('Train vs Valid Losses')\n",
        " \n",
        "plt.show()"
      ],
      "metadata": {
        "colab": {
          "base_uri": "https://localhost:8080/",
          "height": 295
        },
        "outputId": "90c4c9ad-f944-4164-95c4-02837052e622",
        "id": "Ff01BiLIFaSi"
      },
      "execution_count": 34,
      "outputs": [
        {
          "output_type": "display_data",
          "data": {
            "image/png": "[encoded data removed]",
            "text/plain": [
              "<Figure size 432x288 with 1 Axes>"
            ]
          },
          "metadata": {
            "needs_background": "light"
          }
        }
      ]
    },
    {
      "cell_type": "markdown",
      "source": [
        "## Evaluation"
      ],
      "metadata": {
        "id": "hMX9cey-FaSi"
      }
    },
    {
      "cell_type": "code",
      "source": [
        "print(f'Valid_Loss: {best_valid_loss:.4f} Valid_Accuracy: {100 * best_valid_acc:.2f} Valid_AUC: {100 * best_valid_auc:.2f}')"
      ],
      "metadata": {
        "colab": {
          "base_uri": "https://localhost:8080/"
        },
        "outputId": "13d14980-d543-4217-8495-0347de198fa1",
        "id": "XhdChIPTFaSi"
      },
      "execution_count": 35,
      "outputs": [
        {
          "output_type": "stream",
          "name": "stdout",
          "text": [
            "Valid_Loss: 0.0872 Valid_Accuracy: 97.07 Valid_AUC: 98.10\n"
          ]
        }
      ]
    },
    {
      "cell_type": "code",
      "source": [
        "from sklearn.metrics import roc_curve, confusion_matrix, ConfusionMatrixDisplay\n",
        "# confusion matrix for validation data\n",
        "cm = confusion_matrix(data_train.y.detach().cpu().numpy()[val_idx], out_labels[val_idx])\n",
        "CM_disp = ConfusionMatrixDisplay(cm)\n",
        "CM_disp.plot()"
      ],
      "metadata": {
        "colab": {
          "base_uri": "https://localhost:8080/",
          "height": 296
        },
        "outputId": "c780558e-992c-435a-df91-f8b930024e81",
        "id": "bgNEgvcyFaSi"
      },
      "execution_count": 36,
      "outputs": [
        {
          "output_type": "execute_result",
          "data": {
            "text/plain": [
              "<sklearn.metrics._plot.confusion_matrix.ConfusionMatrixDisplay at 0x7f52941e7e90>"
            ]
          },
          "metadata": {},
          "execution_count": 36
        },
        {
          "output_type": "display_data",
          "data": {
            "image/png": "[encoded data removed]",
            "text/plain": [
              "<Figure size 432x288 with 2 Axes>"
            ]
          },
          "metadata": {
            "needs_background": "light"
          }
        }
      ]
    },
    {
      "cell_type": "markdown",
      "source": [
        "# GraphSAGE Architecture"
      ],
      "metadata": {
        "id": "hcvPc-g7EFsI"
      }
    },
    {
      "cell_type": "code",
      "source": [
        "import torch.nn.functional as F\n",
        "\n",
        "class GSAGE(torch.nn.Module):\n",
        "    def __init__(self, input_dim, hidden_dim, output_dim, num_layers, dropout):\n",
        "        super(GSAGE, self).__init__()\n",
        "\n",
        "        self.convs = torch.nn.ModuleList()\n",
        "        self.bns = torch.nn.ModuleList()\n",
        "\n",
        "        self.convs.append(SAGEConv(input_dim, hidden_dim))\n",
        "        for i in range(num_layers - 2):\n",
        "          self.convs.append(SAGEConv(hidden_dim, hidden_dim))\n",
        "        self.convs.append(SAGEConv(hidden_dim, output_dim))\n",
        "\n",
        "        for i in range(num_layers - 1):\n",
        "          self.bns.append(torch.nn.BatchNorm1d(num_features=hidden_dim))\n",
        "\n",
        "        # Probability of an element getting zeroed\n",
        "        self.dropout = dropout\n",
        "\n",
        "\n",
        "    def reset_parameters(self):\n",
        "        for conv in self.convs:\n",
        "            conv.reset_parameters()\n",
        "        for bn in self.bns:\n",
        "            bn.reset_parameters()\n",
        "\n",
        "    def forward(self, data):\n",
        "\n",
        "        x, edge_index = data.x, data.edge_index\n",
        "\n",
        "        for conv, bn in zip(self.convs[:-1], self.bns):\n",
        "          x = F.relu(bn(conv(x, edge_index)))\n",
        "          if self.training:\n",
        "            x = F.dropout(x, p=self.dropout)\n",
        "            \n",
        "        x = self.convs[-1](x, edge_index)\n",
        "        out = torch.sigmoid(x)\n",
        "\n",
        "        return out"
      ],
      "metadata": {
        "id": "Gkiw7anvEFsK"
      },
      "execution_count": 37,
      "outputs": []
    },
    {
      "cell_type": "code",
      "source": [
        "def train(model, data_train, train_idx, optimizer, loss_fn, scheduler):\n",
        "    \n",
        "  model.train()\n",
        "  optimizer.zero_grad()\n",
        "  pred = model(data_train)\n",
        "  pred = pred.reshape((data_train.x.shape[0]))\n",
        "  train_loss = loss_fn(pred[train_idx], data_train.y[train_idx])\n",
        "\n",
        "  train_loss.backward()\n",
        "  optimizer.step()\n",
        "  \n",
        "  \n",
        "  val_loss = loss_fn(pred[val_idx], data_train.y[val_idx])\n",
        "  scheduler.step(val_loss)\n",
        "\n",
        "  return pred, train_loss.item(), val_loss.item()"
      ],
      "metadata": {
        "id": "gDOP8qodEFsL"
      },
      "execution_count": 38,
      "outputs": []
    },
    {
      "cell_type": "markdown",
      "source": [
        "## Train"
      ],
      "metadata": {
        "id": "jclQFckSEFsL"
      }
    },
    {
      "cell_type": "code",
      "source": [
        "device = torch.device('cuda' if torch.cuda.is_available() else 'cpu')\n",
        "args = {\n",
        "      'num_layers': 3,\n",
        "      'hidden_dim': 128,\n",
        "      'dropout': 0.4,\n",
        "      'lr': 0.01,\n",
        "      'epochs': 300,\n",
        "      }"
      ],
      "metadata": {
        "id": "y9CrFWtuEFsL"
      },
      "execution_count": 39,
      "outputs": []
    },
    {
      "cell_type": "code",
      "source": [
        "model = GSAGE(input_dim=data_train.num_features,\n",
        "            hidden_dim=args['hidden_dim'],\n",
        "            output_dim=1,\n",
        "            num_layers=args['num_layers'],\n",
        "            dropout=args['dropout'],\n",
        "            ).to(device)"
      ],
      "metadata": {
        "id": "6cFnJjpnEFsL"
      },
      "execution_count": 40,
      "outputs": []
    },
    {
      "cell_type": "code",
      "source": [
        "from sklearn.metrics import roc_auc_score, accuracy_score\n",
        "import copy\n",
        "\n",
        "model.reset_parameters()\n",
        "model.double()\n",
        "data_train = data_train.to(device)\n",
        "\n",
        "optimizer = torch.optim.Adam(model.parameters(), lr=0.01)\n",
        "scheduler = torch.optim.lr_scheduler.ReduceLROnPlateau(optimizer, 'min', verbose=True, factor=0.8, min_lr=0.0001)\n",
        "loss_fn = torch.nn.BCELoss()\n",
        "\n",
        "best_model = None\n",
        "best_valid_loss = 10\n",
        "train_losses = []\n",
        "valid_losses = []\n",
        "epoch_ls = []\n",
        "\n",
        "for epoch in range(1, 1 + args[\"epochs\"]):\n",
        "\n",
        "  pred, train_loss, val_loss = train(model, data_train, train_idx, optimizer, loss_fn, scheduler)\n",
        "  out_labels = pred.detach().cpu().numpy() > 0.5\n",
        "\n",
        "  # Metrics\n",
        "  train_acc = accuracy_score(data_train.y.detach().cpu().numpy()[train_idx], out_labels[train_idx])\n",
        "  train_auc = roc_auc_score(data_train.y.detach().cpu().numpy()[train_idx], pred.detach().cpu().numpy()[train_idx])\n",
        "\n",
        "  valid_acc = accuracy_score(data_train.y.detach().cpu().numpy()[val_idx], out_labels[val_idx])\n",
        "  valid_auc = roc_auc_score(data_train.y.detach().cpu().numpy()[val_idx], pred.detach().cpu().numpy()[val_idx])\n",
        "\n",
        "\n",
        "  if val_loss < best_valid_loss:\n",
        "    best_valid_loss = val_loss\n",
        "    best_valid_acc = valid_acc\n",
        "    best_valid_auc = valid_auc\n",
        "    best_model = copy.deepcopy(model)\n",
        "\n",
        "  if epoch%5 == 0:\n",
        "    train_losses.append(train_loss)\n",
        "    valid_losses.append(val_loss)\n",
        "    epoch_ls.append(epoch)\n",
        "    print(f'Epoch: {epoch:02d}, '\n",
        "          f'Loss: {train_loss:.4f}, '\n",
        "          f'Train_Accuracy: {100 * train_acc:.2f}%, '\n",
        "          f'Train_AUC: {100 * train_auc:.2f}%, '\n",
        "          f'Valid_Loss: {val_loss:.4f}, '\n",
        "          f'Valid_Accuracy: {100 * valid_acc:.2f}% '\n",
        "          f'Valid_AUC: {100 * valid_auc:.2f}% ')"
      ],
      "metadata": {
        "colab": {
          "base_uri": "https://localhost:8080/"
        },
        "outputId": "b236c56e-ff1b-47fa-eeba-59a5c3f03db6",
        "id": "4qbp8SD_EFsL"
      },
      "execution_count": 41,
      "outputs": [
        {
          "output_type": "stream",
          "name": "stdout",
          "text": [
            "Epoch: 05, Loss: 0.2560, Train_Accuracy: 90.24%, Train_AUC: 84.23%, Valid_Loss: 0.2604, Valid_Accuracy: 90.26% Valid_AUC: 84.00% \n",
            "Epoch: 10, Loss: 0.2116, Train_Accuracy: 90.30%, Train_AUC: 91.63%, Valid_Loss: 0.2174, Valid_Accuracy: 90.28% Valid_AUC: 91.07% \n",
            "Epoch: 15, Loss: 0.1885, Train_Accuracy: 90.89%, Train_AUC: 93.37%, Valid_Loss: 0.1955, Valid_Accuracy: 90.82% Valid_AUC: 92.74% \n",
            "Epoch: 20, Loss: 0.1732, Train_Accuracy: 92.59%, Train_AUC: 94.40%, Valid_Loss: 0.1849, Valid_Accuracy: 92.30% Valid_AUC: 93.40% \n",
            "Epoch: 25, Loss: 0.1593, Train_Accuracy: 94.17%, Train_AUC: 94.93%, Valid_Loss: 0.1688, Valid_Accuracy: 94.20% Valid_AUC: 94.22% \n",
            "Epoch: 30, Loss: 0.1414, Train_Accuracy: 95.21%, Train_AUC: 95.91%, Valid_Loss: 0.1503, Valid_Accuracy: 94.95% Valid_AUC: 95.24% \n",
            "Epoch: 35, Loss: 0.1313, Train_Accuracy: 95.59%, Train_AUC: 96.22%, Valid_Loss: 0.1409, Valid_Accuracy: 95.29% Valid_AUC: 95.66% \n",
            "Epoch: 40, Loss: 0.1190, Train_Accuracy: 96.07%, Train_AUC: 96.78%, Valid_Loss: 0.1283, Valid_Accuracy: 95.98% Valid_AUC: 96.12% \n",
            "Epoch: 45, Loss: 0.1105, Train_Accuracy: 96.40%, Train_AUC: 97.16%, Valid_Loss: 0.1291, Valid_Accuracy: 95.82% Valid_AUC: 95.93% \n",
            "Epoch: 50, Loss: 0.1022, Train_Accuracy: 96.67%, Train_AUC: 97.41%, Valid_Loss: 0.1162, Valid_Accuracy: 96.16% Valid_AUC: 96.66% \n",
            "Epoch: 55, Loss: 0.0950, Train_Accuracy: 96.88%, Train_AUC: 97.73%, Valid_Loss: 0.1142, Valid_Accuracy: 96.48% Valid_AUC: 96.65% \n",
            "Epoch: 60, Loss: 0.0899, Train_Accuracy: 97.06%, Train_AUC: 97.93%, Valid_Loss: 0.1132, Valid_Accuracy: 96.48% Valid_AUC: 96.65% \n",
            "Epoch: 65, Loss: 0.0862, Train_Accuracy: 97.25%, Train_AUC: 98.11%, Valid_Loss: 0.1082, Valid_Accuracy: 96.65% Valid_AUC: 96.96% \n",
            "Epoch: 70, Loss: 0.0806, Train_Accuracy: 97.40%, Train_AUC: 98.32%, Valid_Loss: 0.1058, Valid_Accuracy: 96.51% Valid_AUC: 97.14% \n",
            "Epoch: 75, Loss: 0.0768, Train_Accuracy: 97.46%, Train_AUC: 98.55%, Valid_Loss: 0.1007, Valid_Accuracy: 96.74% Valid_AUC: 97.39% \n",
            "Epoch: 80, Loss: 0.0733, Train_Accuracy: 97.67%, Train_AUC: 98.61%, Valid_Loss: 0.0997, Valid_Accuracy: 96.66% Valid_AUC: 97.51% \n",
            "Epoch: 85, Loss: 0.0708, Train_Accuracy: 97.74%, Train_AUC: 98.73%, Valid_Loss: 0.0971, Valid_Accuracy: 96.99% Valid_AUC: 97.53% \n",
            "Epoch: 90, Loss: 0.0661, Train_Accuracy: 97.82%, Train_AUC: 98.86%, Valid_Loss: 0.0930, Valid_Accuracy: 97.11% Valid_AUC: 97.70% \n",
            "Epoch: 95, Loss: 0.0643, Train_Accuracy: 97.90%, Train_AUC: 98.97%, Valid_Loss: 0.0923, Valid_Accuracy: 97.32% Valid_AUC: 97.65% \n",
            "Epoch: 100, Loss: 0.0619, Train_Accuracy: 97.97%, Train_AUC: 99.01%, Valid_Loss: 0.0928, Valid_Accuracy: 97.12% Valid_AUC: 97.76% \n",
            "Epoch: 105, Loss: 0.0600, Train_Accuracy: 98.00%, Train_AUC: 99.10%, Valid_Loss: 0.0876, Valid_Accuracy: 97.18% Valid_AUC: 97.95% \n",
            "Epoch: 110, Loss: 0.0575, Train_Accuracy: 98.03%, Train_AUC: 99.18%, Valid_Loss: 0.0902, Valid_Accuracy: 97.21% Valid_AUC: 97.79% \n",
            "Epoch   114: reducing learning rate of group 0 to 8.0000e-03.\n",
            "Epoch: 115, Loss: 0.0574, Train_Accuracy: 98.13%, Train_AUC: 99.15%, Valid_Loss: 0.0840, Valid_Accuracy: 97.14% Valid_AUC: 98.24% \n",
            "Epoch: 120, Loss: 0.0543, Train_Accuracy: 98.24%, Train_AUC: 99.26%, Valid_Loss: 0.0892, Valid_Accuracy: 97.31% Valid_AUC: 97.84% \n",
            "Epoch: 125, Loss: 0.0521, Train_Accuracy: 98.31%, Train_AUC: 99.33%, Valid_Loss: 0.0872, Valid_Accuracy: 97.57% Valid_AUC: 97.90% \n",
            "Epoch   126: reducing learning rate of group 0 to 6.4000e-03.\n",
            "Epoch: 130, Loss: 0.0511, Train_Accuracy: 98.33%, Train_AUC: 99.32%, Valid_Loss: 0.0918, Valid_Accuracy: 97.28% Valid_AUC: 97.71% \n",
            "Epoch: 135, Loss: 0.0481, Train_Accuracy: 98.43%, Train_AUC: 99.41%, Valid_Loss: 0.0832, Valid_Accuracy: 97.45% Valid_AUC: 98.14% \n",
            "Epoch   139: reducing learning rate of group 0 to 5.1200e-03.\n",
            "Epoch: 140, Loss: 0.0478, Train_Accuracy: 98.44%, Train_AUC: 99.42%, Valid_Loss: 0.0871, Valid_Accuracy: 97.44% Valid_AUC: 98.01% \n",
            "Epoch: 145, Loss: 0.0478, Train_Accuracy: 98.43%, Train_AUC: 99.42%, Valid_Loss: 0.0840, Valid_Accuracy: 97.34% Valid_AUC: 98.15% \n",
            "Epoch   150: reducing learning rate of group 0 to 4.0960e-03.\n",
            "Epoch: 150, Loss: 0.0457, Train_Accuracy: 98.48%, Train_AUC: 99.48%, Valid_Loss: 0.0922, Valid_Accuracy: 97.48% Valid_AUC: 97.70% \n",
            "Epoch: 155, Loss: 0.0452, Train_Accuracy: 98.52%, Train_AUC: 99.50%, Valid_Loss: 0.0886, Valid_Accuracy: 97.38% Valid_AUC: 97.87% \n",
            "Epoch: 160, Loss: 0.0440, Train_Accuracy: 98.53%, Train_AUC: 99.54%, Valid_Loss: 0.0908, Valid_Accuracy: 97.34% Valid_AUC: 97.86% \n",
            "Epoch: 165, Loss: 0.0431, Train_Accuracy: 98.57%, Train_AUC: 99.54%, Valid_Loss: 0.0815, Valid_Accuracy: 97.64% Valid_AUC: 98.21% \n",
            "Epoch   169: reducing learning rate of group 0 to 3.2768e-03.\n",
            "Epoch: 170, Loss: 0.0419, Train_Accuracy: 98.61%, Train_AUC: 99.55%, Valid_Loss: 0.0843, Valid_Accuracy: 97.42% Valid_AUC: 98.22% \n",
            "Epoch: 175, Loss: 0.0416, Train_Accuracy: 98.62%, Train_AUC: 99.58%, Valid_Loss: 0.0854, Valid_Accuracy: 97.48% Valid_AUC: 98.13% \n",
            "Epoch   180: reducing learning rate of group 0 to 2.6214e-03.\n",
            "Epoch: 180, Loss: 0.0408, Train_Accuracy: 98.65%, Train_AUC: 99.61%, Valid_Loss: 0.0872, Valid_Accuracy: 97.27% Valid_AUC: 98.08% \n",
            "Epoch: 185, Loss: 0.0409, Train_Accuracy: 98.67%, Train_AUC: 99.58%, Valid_Loss: 0.0854, Valid_Accuracy: 97.57% Valid_AUC: 98.09% \n",
            "Epoch: 190, Loss: 0.0404, Train_Accuracy: 98.66%, Train_AUC: 99.60%, Valid_Loss: 0.0794, Valid_Accuracy: 97.61% Valid_AUC: 98.23% \n",
            "Epoch: 195, Loss: 0.0390, Train_Accuracy: 98.71%, Train_AUC: 99.63%, Valid_Loss: 0.0851, Valid_Accuracy: 97.47% Valid_AUC: 98.11% \n",
            "Epoch: 200, Loss: 0.0390, Train_Accuracy: 98.66%, Train_AUC: 99.65%, Valid_Loss: 0.0843, Valid_Accuracy: 97.67% Valid_AUC: 98.05% \n",
            "Epoch: 205, Loss: 0.0368, Train_Accuracy: 98.83%, Train_AUC: 99.64%, Valid_Loss: 0.0914, Valid_Accuracy: 97.57% Valid_AUC: 97.91% \n",
            "Epoch: 210, Loss: 0.0370, Train_Accuracy: 98.78%, Train_AUC: 99.67%, Valid_Loss: 0.0879, Valid_Accuracy: 97.52% Valid_AUC: 97.98% \n",
            "Epoch   212: reducing learning rate of group 0 to 2.0972e-03.\n",
            "Epoch: 215, Loss: 0.0389, Train_Accuracy: 98.77%, Train_AUC: 99.62%, Valid_Loss: 0.0865, Valid_Accuracy: 97.48% Valid_AUC: 98.10% \n",
            "Epoch: 220, Loss: 0.0378, Train_Accuracy: 98.79%, Train_AUC: 99.65%, Valid_Loss: 0.0826, Valid_Accuracy: 97.68% Valid_AUC: 98.18% \n",
            "Epoch   223: reducing learning rate of group 0 to 1.6777e-03.\n",
            "Epoch: 225, Loss: 0.0378, Train_Accuracy: 98.76%, Train_AUC: 99.64%, Valid_Loss: 0.0846, Valid_Accuracy: 97.58% Valid_AUC: 98.11% \n",
            "Epoch: 230, Loss: 0.0358, Train_Accuracy: 98.77%, Train_AUC: 99.71%, Valid_Loss: 0.0879, Valid_Accuracy: 97.58% Valid_AUC: 98.11% \n",
            "Epoch   234: reducing learning rate of group 0 to 1.3422e-03.\n",
            "Epoch: 235, Loss: 0.0353, Train_Accuracy: 98.80%, Train_AUC: 99.72%, Valid_Loss: 0.0856, Valid_Accuracy: 97.55% Valid_AUC: 98.06% \n",
            "Epoch: 240, Loss: 0.0353, Train_Accuracy: 98.80%, Train_AUC: 99.71%, Valid_Loss: 0.0835, Valid_Accuracy: 97.65% Valid_AUC: 98.08% \n",
            "Epoch   245: reducing learning rate of group 0 to 1.0737e-03.\n",
            "Epoch: 245, Loss: 0.0355, Train_Accuracy: 98.83%, Train_AUC: 99.68%, Valid_Loss: 0.0818, Valid_Accuracy: 97.59% Valid_AUC: 98.20% \n",
            "Epoch: 250, Loss: 0.0342, Train_Accuracy: 98.81%, Train_AUC: 99.74%, Valid_Loss: 0.0850, Valid_Accuracy: 97.62% Valid_AUC: 98.15% \n",
            "Epoch: 255, Loss: 0.0348, Train_Accuracy: 98.84%, Train_AUC: 99.71%, Valid_Loss: 0.0895, Valid_Accuracy: 97.58% Valid_AUC: 97.89% \n",
            "Epoch   256: reducing learning rate of group 0 to 8.5899e-04.\n",
            "Epoch: 260, Loss: 0.0350, Train_Accuracy: 98.83%, Train_AUC: 99.70%, Valid_Loss: 0.0980, Valid_Accuracy: 97.61% Valid_AUC: 98.15% \n",
            "Epoch: 265, Loss: 0.0349, Train_Accuracy: 98.84%, Train_AUC: 99.70%, Valid_Loss: 0.0798, Valid_Accuracy: 97.70% Valid_AUC: 98.27% \n",
            "Epoch   267: reducing learning rate of group 0 to 6.8719e-04.\n",
            "Epoch: 270, Loss: 0.0338, Train_Accuracy: 98.85%, Train_AUC: 99.73%, Valid_Loss: 0.0822, Valid_Accuracy: 97.54% Valid_AUC: 98.24% \n",
            "Epoch: 275, Loss: 0.0349, Train_Accuracy: 98.86%, Train_AUC: 99.71%, Valid_Loss: 0.0872, Valid_Accuracy: 97.70% Valid_AUC: 98.02% \n",
            "Epoch   278: reducing learning rate of group 0 to 5.4976e-04.\n",
            "Epoch: 280, Loss: 0.0344, Train_Accuracy: 98.88%, Train_AUC: 99.72%, Valid_Loss: 0.0850, Valid_Accuracy: 97.71% Valid_AUC: 98.15% \n",
            "Epoch: 285, Loss: 0.0350, Train_Accuracy: 98.83%, Train_AUC: 99.71%, Valid_Loss: 0.0866, Valid_Accuracy: 97.42% Valid_AUC: 98.27% \n",
            "Epoch   289: reducing learning rate of group 0 to 4.3980e-04.\n",
            "Epoch: 290, Loss: 0.0347, Train_Accuracy: 98.85%, Train_AUC: 99.71%, Valid_Loss: 0.0861, Valid_Accuracy: 97.57% Valid_AUC: 98.17% \n",
            "Epoch: 295, Loss: 0.0345, Train_Accuracy: 98.84%, Train_AUC: 99.70%, Valid_Loss: 0.0846, Valid_Accuracy: 97.67% Valid_AUC: 98.10% \n",
            "Epoch   300: reducing learning rate of group 0 to 3.5184e-04.\n",
            "Epoch: 300, Loss: 0.0350, Train_Accuracy: 98.84%, Train_AUC: 99.70%, Valid_Loss: 0.0909, Valid_Accuracy: 97.42% Valid_AUC: 98.03% \n"
          ]
        }
      ]
    },
    {
      "cell_type": "code",
      "source": [
        "import matplotlib.pyplot as plt\n",
        "\n",
        "plt.plot(epoch_ls, train_losses, '-o')\n",
        "plt.plot(epoch_ls, valid_losses, '-o')\n",
        "plt.xlabel('epoch')\n",
        "plt.ylabel('losses')\n",
        "plt.legend(['Train','Valid'])\n",
        "plt.title('Train vs Valid Losses')\n",
        " \n",
        "plt.show()"
      ],
      "metadata": {
        "colab": {
          "base_uri": "https://localhost:8080/",
          "height": 295
        },
        "outputId": "df66f991-3613-4808-d57b-862c1939ea97",
        "id": "YLshxE_CEFsM"
      },
      "execution_count": 42,
      "outputs": [
        {
          "output_type": "display_data",
          "data": {
            "image/png": "[encoded data removed]",
            "text/plain": [
              "<Figure size 432x288 with 1 Axes>"
            ]
          },
          "metadata": {
            "needs_background": "light"
          }
        }
      ]
    },
    {
      "cell_type": "markdown",
      "source": [
        "## Evaluation"
      ],
      "metadata": {
        "id": "4rPEXHlGEQuv"
      }
    },
    {
      "cell_type": "code",
      "source": [
        "print(f'Valid_Loss: {best_valid_loss:.4f} Valid_Accuracy: {100 * best_valid_acc:.2f} Valid_AUC: {100 * best_valid_auc:.2f}')"
      ],
      "metadata": {
        "colab": {
          "base_uri": "https://localhost:8080/"
        },
        "outputId": "7a4ce942-b417-4777-c10f-2c1932a7d33f",
        "id": "pqp7sx3kEFsM"
      },
      "execution_count": 43,
      "outputs": [
        {
          "output_type": "stream",
          "name": "stdout",
          "text": [
            "Valid_Loss: 0.0764 Valid_Accuracy: 97.64 Valid_AUC: 98.47\n"
          ]
        }
      ]
    },
    {
      "cell_type": "code",
      "source": [
        "from sklearn.metrics import roc_curve, confusion_matrix, ConfusionMatrixDisplay\n",
        "# confusion matrix for validation data\n",
        "cm = confusion_matrix(data_train.y.detach().cpu().numpy()[val_idx], out_labels[val_idx])\n",
        "CM_disp = ConfusionMatrixDisplay(cm)\n",
        "CM_disp.plot()"
      ],
      "metadata": {
        "colab": {
          "base_uri": "https://localhost:8080/",
          "height": 296
        },
        "outputId": "f53a85e3-294f-4767-ed69-7cdcb30c01df",
        "id": "aPE-lLvGEFsM"
      },
      "execution_count": 44,
      "outputs": [
        {
          "output_type": "execute_result",
          "data": {
            "text/plain": [
              "<sklearn.metrics._plot.confusion_matrix.ConfusionMatrixDisplay at 0x7f52943abf90>"
            ]
          },
          "metadata": {},
          "execution_count": 44
        },
        {
          "output_type": "display_data",
          "data": {
            "image/png": "[encoded data removed]",
            "text/plain": [
              "<Figure size 432x288 with 2 Axes>"
            ]
          },
          "metadata": {
            "needs_background": "light"
          }
        }
      ]
    },
    {
      "cell_type": "code",
      "source": [
        ""
      ],
      "metadata": {
        "id": "BlOj-onCLKb7"
      },
      "execution_count": null,
      "outputs": []
    }
  ]
}